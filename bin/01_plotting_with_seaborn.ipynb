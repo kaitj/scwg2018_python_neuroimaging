{
 "cells": [
  {
   "cell_type": "markdown",
   "metadata": {},
   "source": [
    "## Plotting with Seaborn\n",
    "\n",
    "_Portions of the following content can also be found by following the tutorials found in the `seaborn` documentation._\n",
    "\n",
    "In the previous notebook, we showed a simple example of plotting using `matplotlib` to demonstrate figuring embedding using magic commands. In this notebook, we will demonstrate plotting using [`seaborn`](https://seaborn.pydata.org/), a Python data visualization library based on `matplotlib`. This package allows for the creation of attractive and informative graphics. First, lets import the `seaborn` library!"
   ]
  },
  {
   "cell_type": "code",
   "execution_count": null,
   "metadata": {},
   "outputs": [],
   "source": [
    "import seaborn as sns"
   ]
  },
  {
   "cell_type": "markdown",
   "metadata": {},
   "source": [
    "While not necessary, it is a good idea to have defaults set up for your plots so that settings do not to be changed for each plot. The following lines of code sets font types and sizes, as well as colors using `rcParams` from `matplotlib`.\n",
    "\n",
    "Additionally, the context of the plot can be set for different situations/publications (eg. `talks`, `posters`, `paper`, `notebook`). \n",
    "\n",
    "Finally, the style of the plot can be changed as well (`white`, `dark`, `whitegrid`, `darkgrid`, `ticks`).\n",
    "\n",
    "_Note: While the settings are set separately in the cell below, they can be conbined into a single command._"
   ]
  },
  {
   "cell_type": "code",
   "execution_count": null,
   "metadata": {},
   "outputs": [],
   "source": [
    "import matplotlib.pyplot as plt\n",
    "\n",
    "# Color friendly color cycle - gist.github.com/thriveth/8560036\n",
    "cb_color_cycle = ['#377eb8', '#ff7f00', '#4daf4a',\n",
    "                  '#f781bf', '#a65628', '#984ea3',\n",
    "                  '#999999', '#e41a1c', '#dede00']\n",
    "\n",
    "sns.set(style=\"ticks\", context=\"talk\", rc={\"image.cmap\":\"Set2\",\n",
    "                                             \"axes.prop_cycle\": plt.cycler(color=cb_color_cycle),\n",
    "                                             \"font.sans-serif\": \"Liberation Sans\",\n",
    "                                             \"font.monospace\": \"Liberation Sans\",\n",
    "                                             \"axes.titlesize\": 16,\n",
    "                                             \"axes.titleweight\": \"bold\",\n",
    "                                             \"axes.labelsize\": 14,\n",
    "                                             \"axes.labelweight\": \"bold\",\n",
    "                                             \"xtick.labelsize\": 12,\n",
    "                                             \"ytick.labelsize\": 12,\n",
    "                                             \"legend.fontsize\": 12})"
   ]
  },
  {
   "cell_type": "markdown",
   "metadata": {},
   "source": [
    "### Scatter Plots\n",
    "\n",
    "Before we plot our first `seaborn` plot, lets first load the `tips` dataset and take a look!"
   ]
  },
  {
   "cell_type": "code",
   "execution_count": null,
   "metadata": {},
   "outputs": [],
   "source": [
    "tips = sns.load_dataset(\"tips\")\n",
    "\n",
    "print(type(tips))\n",
    "\n",
    "tips.head()"
   ]
  },
  {
   "cell_type": "markdown",
   "metadata": {},
   "source": [
    "We can see here, the data is stored as a `pandas` DataFrame object. Briefly, `pandas` is a data analysis library for python. The `head` function prints the first few lines from our DataFrame. From our tips example, we can see the DataFrame stores the following information for each observation: `total_bill`, `tip`, `sex`, `smoker`, `day`, `time`, `size`\n",
    "\n",
    "Next, we will use seaborn to plot the relationship between the total bill and the tip left! To do so, we will use the `relplot` function, and setting `kind` to `satter` for scatter plot. This can be changed for other plots. Not all types of plots can be plotted this way though, so check the documentation to see what and how to plot each type of plot (eg. barplot)"
   ]
  },
  {
   "cell_type": "code",
   "execution_count": null,
   "metadata": {},
   "outputs": [],
   "source": [
    "%matplotlib inline\n",
    "\n",
    "sns.relplot(x=\"total_bill\", y=\"tip\", data=tips, kind=\"scatter\")"
   ]
  },
  {
   "cell_type": "markdown",
   "metadata": {},
   "source": [
    "We can add an additional dimension (by colouring the observations by another variable) to the 2D plot. This is referred to \"hue semantic\" in `seaborn`. Try to sort the above plot, separated by whether the group sat in a smoking or non-smoking area. _(Hint: Use the key \"hue\" to specify an additional dimension)_"
   ]
  },
  {
   "cell_type": "code",
   "execution_count": null,
   "metadata": {},
   "outputs": [],
   "source": [
    "%matplotlib inline\n",
    "\n",
    "sns.relplot(x=\"total_bill\", y=\"tip\", hue=\"smoker\", data=tips, kind=\"scatter\")"
   ]
  },
  {
   "cell_type": "markdown",
   "metadata": {},
   "source": [
    "### Showing Multiple Relationships\n",
    "\n",
    "We can also show multiple relationships in our plots using multiple axes and subplots. For example, we can split the above plot by time using the key `col`."
   ]
  },
  {
   "cell_type": "code",
   "execution_count": null,
   "metadata": {},
   "outputs": [],
   "source": [
    "%matplotlib inline\n",
    "\n",
    "sns.relplot(x=\"total_bill\", y=\"tip\", hue=\"smoker\", col=??, data=tips)"
   ]
  },
  {
   "cell_type": "markdown",
   "metadata": {},
   "source": [
    "### Lineplot\n",
    "\n",
    "Next, lets load the `fmri` dataset and take a look at the first few rows of data."
   ]
  },
  {
   "cell_type": "code",
   "execution_count": null,
   "metadata": {},
   "outputs": [],
   "source": []
  },
  {
   "cell_type": "markdown",
   "metadata": {},
   "source": [
    "Try plotting this as a line plot using `seaborn`, visualizing the signal over time! By default, the confidence interval will also be shown (done via bootstrapping, which can be time intensive for large-datasets). The confidence interval can be turned off by setting the `ci` setting to `None`. As this dataset is not particularly large, try plotting it both ways! \n",
    "\n",
    "Additionally, the `ci` setting can be used to plot the standard deviation instead using `ci=\"sd\"`."
   ]
  },
  {
   "cell_type": "code",
   "execution_count": null,
   "metadata": {},
   "outputs": [],
   "source": []
  },
  {
   "cell_type": "markdown",
   "metadata": {},
   "source": [
    "We can also plot subsets with semantic mappings, similar to how we split the scatter plots. "
   ]
  },
  {
   "cell_type": "code",
   "execution_count": null,
   "metadata": {},
   "outputs": [],
   "source": []
  },
  {
   "cell_type": "markdown",
   "metadata": {},
   "source": [
    "### Conclusion\n",
    "\n",
    "This notebook only shows two simple ways of plotting using `seaborn`. There are many others (eg. boxplot, violinplot, etc). In order to learn how to use seaborn, it is best to explore it using your own data and refer back to the documentation! "
   ]
  }
 ],
 "metadata": {
  "kernelspec": {
   "display_name": "Python 3",
   "language": "python",
   "name": "python3"
  },
  "language_info": {
   "codemirror_mode": {
    "name": "ipython",
    "version": 3
   },
   "file_extension": ".py",
   "mimetype": "text/x-python",
   "name": "python",
   "nbconvert_exporter": "python",
   "pygments_lexer": "ipython3",
   "version": "3.6.8"
  }
 },
 "nbformat": 4,
 "nbformat_minor": 4
}
