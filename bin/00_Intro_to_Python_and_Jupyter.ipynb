{
 "cells": [
  {
   "cell_type": "markdown",
   "metadata": {},
   "source": [
    "## Jupyter\n",
    "\n",
    "### Cells\n",
    "This is a Jupyter notebook. It can be formated for writing, sharing, presenting technical documents and perform scientific analysis. Each section in a notebook is a \"cell\". Cells can be designated for differnet purposes. The current cell is a _markdown_ cell, to show mostly text. \n",
    "\n",
    "When you hit shift-enter, a cell gets rendered. \n",
    "\n",
    "The cell below is a code shell. When you hit shift-enter, the code in the cell is executed."
   ]
  },
  {
   "cell_type": "code",
   "execution_count": null,
   "metadata": {},
   "outputs": [],
   "source": [
    "a = 1"
   ]
  },
  {
   "cell_type": "markdown",
   "metadata": {},
   "source": [
    "While the kernel is running, the variable persists.\n",
    "\n",
    "### Plotting\n",
    "We will perform plotting in later notebooks. Figures can be embedded within the notebook by using the magic command: `%matplotlib inline`.\n",
    "See the following cell for a simple example."
   ]
  },
  {
   "cell_type": "code",
   "execution_count": null,
   "metadata": {},
   "outputs": [],
   "source": [
    "%matplotlib inline\n",
    "\n",
    "import matplotlib.pyplot as plt \n",
    "\n",
    "plt.plot([0, 1, 2, 3, 4, 5], [0, 2, 4, 8, 16, 32])"
   ]
  },
  {
   "cell_type": "markdown",
   "metadata": {},
   "source": [
    "## Python\n",
    "\n",
    "### Variables\n",
    "\n",
    "In Python, `values` can be assigned to `variables` using the equal sign `=`. \n",
    "\n",
    "Try assigning the value `35` to a variable `TE`"
   ]
  },
  {
   "cell_type": "code",
   "execution_count": null,
   "metadata": {},
   "outputs": [],
   "source": [
    "??"
   ]
  },
  {
   "cell_type": "markdown",
   "metadata": {},
   "source": [
    "Once assigned, whenever we use the variable name, Python will subsitute the value assigned to it.\n",
    "\n",
    "In Python, variable names:\n",
    "- Can include letters, digits, and underscores\n",
    "- Cannot start with a digit (eg. `TE1` is valid, `1TE` is not)\n",
    "- Are case-sensitive (eg. `te` and `TE` are different variables)"
   ]
  },
  {
   "cell_type": "markdown",
   "metadata": {},
   "source": [
    "### Lists\n",
    "\n",
    "Lists can be created by putting values inside square brackets, separating values with commas.\n",
    "Values within a list can be accessed using indicies - numbered positions of elements in the list. \n",
    "\n",
    "**NOTE: In Python, indices begin with 0**"
   ]
  },
  {
   "cell_type": "code",
   "execution_count": null,
   "metadata": {},
   "outputs": [],
   "source": [
    "new_list = ['Python', 2, 3, 'Matlab', 62.5]"
   ]
  },
  {
   "cell_type": "code",
   "execution_count": null,
   "metadata": {},
   "outputs": [],
   "source": [
    "print(\"First element:\", new_list[0])\n",
    "print(\"First element type:\", type(new_list[0]))"
   ]
  },
  {
   "cell_type": "markdown",
   "metadata": {},
   "source": [
    "### Loops\n",
    "\n",
    "Loops can be useful to repeat operations. For example, printing each element in the previously created list. A loop in Python would look similar to the following:\n",
    "\n",
    "```\n",
    "for variable_name in list:\n",
    "    <task>\n",
    "```\n",
    "\n",
    "We can choose any variable name we would want for `variable_name`. It is usually a good idea to choose variable names that are meaningful. Unlike many other languages, there is no command in Python to signify the end of the loop body. "
   ]
  },
  {
   "cell_type": "code",
   "execution_count": null,
   "metadata": {},
   "outputs": [],
   "source": [
    "for ele in new_list:\n",
    "    print(ele)\n",
    "    print(\"\")"
   ]
  },
  {
   "cell_type": "markdown",
   "metadata": {},
   "source": [
    "Python has a built-in function `range`, that generates a sequence of numbers. \n",
    "`range` can accept up to 3 input parameters.\n",
    "\n",
    "* If one parameter is given, a sequence of the given length is generated, starting at zero, and incrementing by one. For example, `range(3)` produces `0, 1, 2`\n",
    "* If two parameters are given, `range` starts at the first input and ends just before the second input, again incrementing by one. For example, `range(2, 5)` produces `2, 3, 4`\n",
    "* If three parameters are given, `range` starts at the first input, ends just before the second input, and increments by the third input. For example, `range(0, 10, 2)` produces `0, 2, 4, 6, 8`\n",
    "\n",
    "Using range, write a loop that uses range to print from 1 to 5 (eg. `1, 2, 3, 4, 5`)"
   ]
  },
  {
   "cell_type": "code",
   "execution_count": null,
   "metadata": {},
   "outputs": [],
   "source": [
    "for val in ??:\n",
    "    print(val)"
   ]
  },
  {
   "cell_type": "markdown",
   "metadata": {},
   "source": [
    "### Creating functions\n",
    "\n",
    "Functions in Python ca nbe defined by using the keyword `def` followed by the name of the function. The body of the function - the statements that are executed when run - is indented below the definition line. Body concludes with a `return` keyword followed by the value to return. For example, below is a function defined to convert from Fahrenheit to Celsius:"
   ]
  },
  {
   "cell_type": "code",
   "execution_count": null,
   "metadata": {},
   "outputs": [],
   "source": [
    "def fahr_to_celsius(temp):\n",
    "    return ((temp - 32) * (5/9))"
   ]
  },
  {
   "cell_type": "code",
   "execution_count": null,
   "metadata": {},
   "outputs": [],
   "source": [
    "fahr_to_celsius(212)"
   ]
  },
  {
   "cell_type": "markdown",
   "metadata": {},
   "source": [
    "Try defining your own function that takes two numbers as input and returns the product of the two."
   ]
  },
  {
   "cell_type": "code",
   "execution_count": null,
   "metadata": {},
   "outputs": [],
   "source": [
    "def mult(??, ??):\n",
    "    ??"
   ]
  },
  {
   "cell_type": "markdown",
   "metadata": {},
   "source": [
    "### Conclusion\n",
    "\n",
    "There are a number of scientific packages that can be used with Python. Examples include NumPy (Numerical Python), which allows you to do manipulate numbers. This library is especially useful if you have matrices or arrays. \n",
    "\n",
    "In the next few notebooks, we will learn about and use some libraries for neuroimaging data and analysis."
   ]
  }
 ],
 "metadata": {
  "kernelspec": {
   "display_name": "Python 3",
   "language": "python",
   "name": "python3"
  },
  "language_info": {
   "codemirror_mode": {
    "name": "ipython",
    "version": 3
   },
   "file_extension": ".py",
   "mimetype": "text/x-python",
   "name": "python",
   "nbconvert_exporter": "python",
   "pygments_lexer": "ipython3",
   "version": "3.6.8"
  }
 },
 "nbformat": 4,
 "nbformat_minor": 4
}
